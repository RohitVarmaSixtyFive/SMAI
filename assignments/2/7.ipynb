{
 "cells": [
  {
   "cell_type": "code",
   "execution_count": 30,
   "metadata": {},
   "outputs": [
    {
     "name": "stdout",
     "output_type": "stream",
     "text": [
      "(200, 512)\n"
     ]
    }
   ],
   "source": [
    "import sys\n",
    "import os \n",
    "import pandas as pd\n",
    "sys.path.append(os.path.abspath(os.path.join(os.getcwd(), '..', '..')))  \n",
    "import matplotlib.pyplot as plt\n",
    "from models.PCA.PCA import PCA\n",
    "from models.Kmeans.Kmeans import Kmeans\n",
    "from models.GMM.GMM import GMM\n",
    "import numpy as np\n",
    "\n",
    "data_path = os.path.abspath(os.path.join(\"2\",\"..\", \"..\",\"..\", \"data\", \"external\",\"word-embeddings.feather\"))\n",
    "\n",
    "df = pd.read_feather(data_path)  \n",
    "string_array = np.array(df['vit'].tolist())  \n",
    "\n",
    "words = df['words'].tolist() \n",
    "\n",
    "print(string_array.shape)"
   ]
  },
  {
   "cell_type": "markdown",
   "metadata": {},
   "source": [
    "#### K_means1 = 6, K2 = 3 ,K_means3 = 7 .\n"
   ]
  },
  {
   "cell_type": "code",
   "execution_count": 31,
   "metadata": {},
   "outputs": [],
   "source": [
    "pca = PCA(n_components=4)\n",
    "pca.fit(string_array) \n",
    "\n",
    "reduced_data = pca.transform(string_array)"
   ]
  },
  {
   "cell_type": "code",
   "execution_count": 39,
   "metadata": {},
   "outputs": [
    {
     "name": "stdout",
     "output_type": "stream",
     "text": [
      "Cluster 0:\n",
      "smile, face, kiss, selfie, cigarette, grape, finger, fingerprints, rain, rainy\n",
      "Cluster 1:\n",
      "drive, dive, sit, exit, bullet, postcard, bend, fly, climb, kneel, scream, catch, dig, run, pull, hollow, puppy, empty, fish, slide, bird, skate, snake, earth, key, swim, zip, walk, sunny\n",
      "Cluster 2:\n",
      "sing, listen, flame, knock, bury, download, eat, hard, fight, call, hit, paint, far, cry, clap, sleep, clean, sad, drink, draw, pray, arrest, email, buy, burn, fire, close, angry, lazy, scary, hang, book, enter, happy, loud, love, cook, recycle, cut\n",
      "Cluster 3:\n",
      "rose, helicopter, table, brick, fishing, grass, forest, mug, gym, lake, passport, roof, stairs, rifle, bed, plant, microwave, notebook, van, microphone, baseball, jacket, bench, bucket, feet, boat, basket, fruit, laptop, door, calendar, chair, mouse, ladder, candle, igloo, clock, oven, calculator, pillow, tree, envelope, tattoo, dustbin, tank, airplane, ambulance, pizza, television, throne, tent, camera, car, loudspeaker, telephone, pant, stove, basketball, wheel, bicycle, toaster, potato, shoe, keyboard, radio, truck, suitcase\n",
      "Cluster 4:\n",
      "deer, panda, ape, cat, bear, spider, shark, giraffe, lizard, frog, monkey, cow, starfish, sun, peacock, ant, goldfish, spiderman, bee, beetle, tomato, dragonfly, butterfly, lantern, elephant, crocodile\n",
      "Cluster 5:\n",
      "needle, eraser, carrot, brush, feather, spoon, puppet, pencil, knit, sweater, pear, saturn, flute, scissor, badminton, hammer, toothbrush, screwdriver, teaspoon, length, parachute, sword, knife, toothpaste, windmill, arrow, comb, fork, paintbrush\n"
     ]
    }
   ],
   "source": [
    "k = 6\n",
    "kmeans = Kmeans(k=k)\n",
    "kmeans.fit(string_array)\n",
    "\n",
    "final_cluster_assignments = kmeans.labels\n",
    "\n",
    "clustered_words = {i: [] for i in range(k)} \n",
    "for word, label in zip(words, final_cluster_assignments):\n",
    "    clustered_words[label].append(word)\n",
    "\n",
    "for cluster, words_in_cluster in clustered_words.items():\n",
    "    print(f\"Cluster {cluster}:\")\n",
    "    print(\", \".join(words_in_cluster)) "
   ]
  },
  {
   "cell_type": "code",
   "execution_count": 33,
   "metadata": {},
   "outputs": [
    {
     "name": "stdout",
     "output_type": "stream",
     "text": [
      "Cluster 0:\n",
      "panda, ape, cat, eraser, table, mug, gym, roof, stairs, rifle, cow, pencil, bed, starfish, plant, microwave, van, sweater, microphone, jacket, bench, sun, bucket, feet, pear, peacock, fruit, grape, laptop, door, calendar, chair, ladder, ant, igloo, oven, calculator, bee, pillow, tree, envelope, ambulance, television, throne, tent, camera, tomato, car, loudspeaker, lantern, elephant, pant, stove, wheel, windmill, toaster, potato, keyboard, suitcase\n",
      "Cluster 1:\n",
      "drive, sing, listen, dive, flame, sit, knock, exit, brick, smile, bullet, bury, download, eat, postcard, hard, bend, fight, call, fly, face, climb, kneel, scream, kiss, passport, selfie, catch, hit, paint, far, dig, cry, notebook, run, clap, pull, sleep, hollow, puppy, clean, basket, sad, empty, slide, drink, draw, pray, arrest, email, buy, clock, burn, fire, close, angry, lazy, scary, hang, hammer, book, tattoo, earth, dustbin, tank, enter, key, swim, zip, happy, loud, love, cook, basketball, recycle, cut, shoe, walk, sunny, radio, truck\n",
      "Cluster 2:\n",
      "deer, rose, helicopter, needle, carrot, fishing, bear, spider, shark, grass, giraffe, forest, lizard, brush, feather, spoon, frog, puppet, lake, monkey, knit, cigarette, baseball, boat, fish, saturn, flute, scissor, badminton, mouse, finger, candle, goldfish, bird, spiderman, beetle, skate, toothbrush, screwdriver, snake, fingerprints, teaspoon, length, rain, airplane, pizza, dragonfly, parachute, butterfly, sword, telephone, rainy, knife, toothpaste, bicycle, arrow, comb, crocodile, fork, paintbrush\n"
     ]
    }
   ],
   "source": [
    "k = 3\n",
    "kmeans = Kmeans(k=k)\n",
    "kmeans.fit(string_array)\n",
    "\n",
    "final_cluster_assignments = kmeans.labels\n",
    "\n",
    "clustered_words = {i: [] for i in range(k)} \n",
    "for word, label in zip(words, final_cluster_assignments):\n",
    "    clustered_words[label].append(word)\n",
    "\n",
    "for cluster, words_in_cluster in clustered_words.items():\n",
    "    print(f\"Cluster {cluster}:\")\n",
    "    print(\", \".join(words_in_cluster)) "
   ]
  },
  {
   "cell_type": "code",
   "execution_count": 34,
   "metadata": {},
   "outputs": [
    {
     "name": "stdout",
     "output_type": "stream",
     "text": [
      "Cluster 0:\n",
      "panda, ape, cat, eat, rifle, cow, pencil, dig, run, sun, ant, bee, tomato, pant, potato\n",
      "Cluster 1:\n",
      "sit, mug, gym, bed, van, feet, laptop, calendar, calculator, television, camera, car, radio\n",
      "Cluster 2:\n",
      "drive, sing, rose, dive, knock, exit, brick, smile, bullet, bury, postcard, bend, fly, face, climb, kneel, scream, kiss, selfie, catch, paint, plant, clap, pull, baseball, hollow, puppy, empty, fish, slide, drink, arrest, angry, book, tattoo, earth, rain, tank, pizza, key, swim, zip, cook, arrow, recycle, shoe, walk, sunny, truck\n",
      "Cluster 3:\n",
      "table, passport, roof, stairs, microwave, notebook, sweater, microphone, jacket, bench, bucket, boat, basket, door, badminton, chair, ladder, igloo, clock, oven, pillow, envelope, skate, dustbin, ambulance, throne, tent, loudspeaker, lantern, telephone, stove, basketball, wheel, bicycle, toaster, keyboard, suitcase\n",
      "Cluster 4:\n",
      "deer, helicopter, fishing, bear, spider, shark, grass, giraffe, forest, lizard, frog, lake, monkey, starfish, pear, peacock, saturn, fruit, grape, mouse, goldfish, bird, spiderman, tree, beetle, snake, airplane, dragonfly, parachute, butterfly, elephant, rainy, windmill, crocodile\n",
      "Cluster 5:\n",
      "listen, flame, download, hard, fight, call, hit, far, cry, sleep, clean, sad, draw, pray, email, buy, burn, fire, close, lazy, scary, hang, enter, happy, loud, love, cut\n",
      "Cluster 6:\n",
      "needle, eraser, carrot, brush, feather, spoon, puppet, knit, cigarette, flute, scissor, finger, candle, hammer, toothbrush, screwdriver, fingerprints, teaspoon, length, sword, knife, toothpaste, comb, fork, paintbrush\n"
     ]
    }
   ],
   "source": [
    "k = 7\n",
    "kmeans = Kmeans(k=k)\n",
    "kmeans.fit(reduced_data)\n",
    "\n",
    "final_cluster_assignments = kmeans.labels\n",
    "\n",
    "clustered_words = {i: [] for i in range(k)} \n",
    "for word, label in zip(words, final_cluster_assignments):\n",
    "    clustered_words[label].append(word)\n",
    "\n",
    "for cluster, words_in_cluster in clustered_words.items():\n",
    "    print(f\"Cluster {cluster}:\")\n",
    "    print(\", \".join(words_in_cluster)) "
   ]
  },
  {
   "cell_type": "markdown",
   "metadata": {},
   "source": [
    "#### kgmm3 = 3, kgmm1 = 1, k2 = 3"
   ]
  },
  {
   "cell_type": "code",
   "execution_count": 35,
   "metadata": {},
   "outputs": [
    {
     "name": "stdout",
     "output_type": "stream",
     "text": [
      "Converged after 2 iterations\n",
      "Cluster 0:\n",
      "drive, sing, deer, panda, ape, listen, rose, dive, flame, helicopter, sit, knock, cat, needle, eraser, table, carrot, exit, brick, fishing, smile, bear, spider, bullet, shark, grass, giraffe, bury, download, forest, lizard, brush, mug, feather, eat, postcard, hard, spoon, bend, frog, fight, puppet, call, fly, gym, lake, face, climb, kneel, scream, monkey, kiss, passport, selfie, roof, stairs, rifle, catch, cow, hit, pencil, bed, starfish, paint, plant, far, microwave, dig, cry, notebook, run, clap, pull, sleep, knit, van, sweater, cigarette, microphone, baseball, hollow, jacket, bench, sun, bucket, puppy, clean, feet, boat, pear, basket, sad, empty, peacock, fish, saturn, slide, flute, fruit, drink, scissor, grape, laptop, door, draw, calendar, badminton, chair, mouse, ladder, pray, arrest, finger, email, candle, ant, buy, igloo, goldfish, bird, clock, oven, calculator, spiderman, bee, burn, pillow, fire, close, angry, lazy, scary, tree, hang, beetle, envelope, skate, hammer, toothbrush, book, screwdriver, snake, tattoo, earth, fingerprints, teaspoon, length, dustbin, rain, tank, airplane, ambulance, pizza, enter, television, throne, key, swim, tent, camera, zip, tomato, dragonfly, parachute, butterfly, car, sword, loudspeaker, happy, lantern, telephone, loud, elephant, love, pant, stove, rainy, knife, cook, toothpaste, basketball, wheel, bicycle, windmill, arrow, recycle, toaster, potato, comb, cut, crocodile, shoe, walk, keyboard, fork, sunny, radio, truck, suitcase, paintbrush\n"
     ]
    },
    {
     "name": "stderr",
     "output_type": "stream",
     "text": [
      "/home/rohit/miniconda3/envs/smai/lib/python3.12/site-packages/scipy/stats/_multivariate.py:449: ComplexWarning: Casting complex values to real discards the imaginary part\n",
      "  mean = np.asarray(mean, dtype=float)\n",
      "/home/rohit/miniconda3/envs/smai/lib/python3.12/site-packages/scipy/stats/_multivariate.py:464: ComplexWarning: Casting complex values to real discards the imaginary part\n",
      "  cov = np.asarray(cov, dtype=float)\n",
      "/home/rohit/miniconda3/envs/smai/lib/python3.12/site-packages/scipy/stats/_multivariate.py:498: ComplexWarning: Casting complex values to real discards the imaginary part\n",
      "  x = np.asarray(x, dtype=float)\n"
     ]
    }
   ],
   "source": [
    "k = 1\n",
    "kmeans = GMM(k=k)\n",
    "kmeans.fit(reduced_data)\n",
    "\n",
    "final_cluster_assignments = kmeans.predict(reduced_data)\n",
    "\n",
    "clustered_words = {i: [] for i in range(k)} \n",
    "for word, label in zip(words, final_cluster_assignments):\n",
    "    clustered_words[label].append(word)\n",
    "\n",
    "for cluster, words_in_cluster in clustered_words.items():\n",
    "    print(f\"Cluster {cluster}:\")\n",
    "    print(\", \".join(words_in_cluster)) "
   ]
  },
  {
   "cell_type": "code",
   "execution_count": 36,
   "metadata": {},
   "outputs": [
    {
     "name": "stdout",
     "output_type": "stream",
     "text": [
      "Converged after 32 iterations\n",
      "Cluster 0:\n",
      "drive, sing, listen, rose, dive, flame, helicopter, knock, needle, eraser, carrot, exit, brick, fishing, bullet, grass, bury, download, forest, brush, feather, hard, spoon, bend, fight, puppet, call, lake, climb, kneel, scream, kiss, catch, hit, paint, plant, far, cry, sleep, knit, cigarette, hollow, clean, pear, empty, saturn, slide, flute, drink, scissor, draw, mouse, pray, arrest, finger, candle, goldfish, burn, fire, close, angry, lazy, scary, tree, hang, hammer, toothbrush, screwdriver, earth, fingerprints, teaspoon, length, rain, tank, airplane, pizza, enter, key, swim, zip, parachute, sword, happy, loud, love, rainy, knife, cook, toothpaste, bicycle, windmill, arrow, recycle, comb, walk, fork, sunny, paintbrush\n",
      "Cluster 1:\n",
      "sit, table, smile, mug, eat, postcard, gym, face, passport, selfie, roof, stairs, rifle, pencil, bed, microwave, dig, notebook, run, clap, pull, van, sweater, microphone, baseball, jacket, bench, sun, bucket, feet, boat, basket, sad, fruit, laptop, door, calendar, badminton, chair, ladder, email, buy, igloo, clock, oven, calculator, pillow, envelope, skate, book, tattoo, dustbin, ambulance, television, throne, tent, camera, tomato, car, loudspeaker, lantern, telephone, pant, stove, basketball, wheel, toaster, potato, cut, shoe, keyboard, radio, truck, suitcase\n",
      "Cluster 2:\n",
      "deer, panda, ape, cat, bear, spider, shark, giraffe, lizard, frog, fly, monkey, cow, starfish, puppy, peacock, fish, grape, ant, bird, spiderman, bee, beetle, snake, dragonfly, butterfly, elephant, crocodile\n"
     ]
    }
   ],
   "source": [
    "k = 3\n",
    "kmeans = GMM(k=k)\n",
    "kmeans.fit(reduced_data)\n",
    "\n",
    "final_cluster_assignments = kmeans.predict(reduced_data)\n",
    "\n",
    "clustered_words = {i: [] for i in range(k)} \n",
    "for word, label in zip(words, final_cluster_assignments):\n",
    "    clustered_words[label].append(word)\n",
    "\n",
    "for cluster, words_in_cluster in clustered_words.items():\n",
    "    print(f\"Cluster {cluster}:\")\n",
    "    print(\", \".join(words_in_cluster)) "
   ]
  },
  {
   "cell_type": "code",
   "execution_count": 37,
   "metadata": {},
   "outputs": [
    {
     "name": "stdout",
     "output_type": "stream",
     "text": [
      "Converged after 73 iterations\n",
      "Cluster 0:\n",
      "drive, sing, listen, dive, flame, helicopter, knock, table, exit, brick, fishing, smile, grass, bury, download, forest, postcard, hard, fight, call, fly, lake, face, climb, kneel, kiss, passport, selfie, roof, stairs, catch, hit, paint, plant, far, microwave, cry, notebook, clap, pull, sleep, baseball, hollow, jacket, bucket, clean, boat, basket, empty, slide, drink, door, draw, badminton, ladder, pray, arrest, email, buy, igloo, clock, oven, burn, pillow, fire, close, angry, lazy, scary, tree, hang, envelope, skate, book, tattoo, earth, dustbin, rain, tank, airplane, ambulance, pizza, enter, throne, key, swim, tent, loudspeaker, happy, telephone, loud, love, stove, rainy, cook, basketball, wheel, bicycle, windmill, recycle, toaster, cut, shoe, walk, keyboard, sunny, radio, truck, suitcase\n",
      "Cluster 1:\n",
      "panda, ape, sit, cat, mug, eat, gym, rifle, cow, bed, dig, run, van, sweater, microphone, bench, sun, feet, sad, peacock, laptop, calendar, chair, ant, calculator, bee, television, camera, tomato, car, lantern, pant, potato\n",
      "Cluster 2:\n",
      "deer, rose, needle, eraser, carrot, bear, spider, bullet, shark, giraffe, lizard, brush, feather, spoon, bend, frog, puppet, scream, monkey, pencil, starfish, knit, cigarette, puppy, pear, fish, saturn, flute, fruit, scissor, grape, mouse, finger, candle, goldfish, bird, spiderman, beetle, hammer, toothbrush, screwdriver, snake, fingerprints, teaspoon, length, zip, dragonfly, parachute, butterfly, sword, elephant, knife, toothpaste, arrow, comb, crocodile, fork, paintbrush\n"
     ]
    }
   ],
   "source": [
    "k = 3\n",
    "kmeans = GMM(k=k)\n",
    "kmeans.fit(reduced_data)\n",
    "\n",
    "final_cluster_assignments = kmeans.predict(reduced_data)\n",
    "\n",
    "clustered_words = {i: [] for i in range(k)} \n",
    "for word, label in zip(words, final_cluster_assignments):\n",
    "    clustered_words[label].append(word)\n",
    "\n",
    "for cluster, words_in_cluster in clustered_words.items():\n",
    "    print(f\"Cluster {cluster}:\")\n",
    "    print(\", \".join(words_in_cluster)) "
   ]
  },
  {
   "cell_type": "markdown",
   "metadata": {},
   "source": [
    "### kkmeans = 6 is better\n",
    "### kgmm = 3 is better\n",
    "### between kmeans and gmm kkmeans is better than kgmm\n",
    "\n",
    "## Reason\n",
    "KKmeans = 6 had a nice clustering with objects in different clusters properly grouped into physical objects, some had verbs, some had items, some had forest and animals etc"
   ]
  },
  {
   "cell_type": "markdown",
   "metadata": {},
   "source": []
  }
 ],
 "metadata": {
  "kernelspec": {
   "display_name": "smai",
   "language": "python",
   "name": "python3"
  },
  "language_info": {
   "codemirror_mode": {
    "name": "ipython",
    "version": 3
   },
   "file_extension": ".py",
   "mimetype": "text/x-python",
   "name": "python",
   "nbconvert_exporter": "python",
   "pygments_lexer": "ipython3",
   "version": "3.12.4"
  }
 },
 "nbformat": 4,
 "nbformat_minor": 2
}
